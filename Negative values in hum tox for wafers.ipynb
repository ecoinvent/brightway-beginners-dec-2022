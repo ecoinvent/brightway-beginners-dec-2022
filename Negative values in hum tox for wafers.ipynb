{
 "cells": [
  {
   "cell_type": "code",
   "execution_count": 1,
   "id": "8ae0f401-b62b-4d66-94da-b4f219f9b0e7",
   "metadata": {},
   "outputs": [],
   "source": [
    "import bw2data as bd\n",
    "import bw2calc as bc\n",
    "import bw2analyzer as ba"
   ]
  },
  {
   "cell_type": "code",
   "execution_count": 2,
   "id": "71fa8a88-d1eb-46a0-8bb5-aae558375acc",
   "metadata": {},
   "outputs": [],
   "source": [
    "bd.projects.set_current(\"ei 3.9 cutoff\")"
   ]
  },
  {
   "cell_type": "code",
   "execution_count": 3,
   "id": "508e08c2-7bba-4114-a8a7-c050e837620f",
   "metadata": {},
   "outputs": [],
   "source": [
    "ht = (\n",
    "    'EF v3.1 no LT',\n",
    "    'human toxicity: carcinogenic no LT',\n",
    "    'comparative toxic unit for human (CTUh) no LT'\n",
    ")"
   ]
  },
  {
   "cell_type": "code",
   "execution_count": 4,
   "id": "3567be68-d89b-422e-bb93-02a38f8e14fb",
   "metadata": {},
   "outputs": [],
   "source": [
    "act = bd.get_activity(name=\"market for wafer, fabricated, for integrated circuit\")"
   ]
  },
  {
   "cell_type": "code",
   "execution_count": 5,
   "id": "3e9032f2-a2b6-4542-968a-325e79a4e77a",
   "metadata": {},
   "outputs": [
    {
     "name": "stderr",
     "output_type": "stream",
     "text": [
      "/Users/chrismutel/miniconda3/envs/bw25/lib/python3.10/site-packages/scikits/umfpack/umfpack.py:736: UmfpackWarning: (almost) singular matrix! (estimated cond. number: 3.73e+13)\n",
      "  warnings.warn(msg, UmfpackWarning)\n"
     ]
    }
   ],
   "source": [
    "lca = bc.LCA({act: 1}, ht, use_distributions=True)\n",
    "lca.lci()\n",
    "lca.lcia()"
   ]
  },
  {
   "cell_type": "code",
   "execution_count": 6,
   "id": "613f39be-8b24-4a31-b681-8ee03600dcc3",
   "metadata": {},
   "outputs": [],
   "source": [
    "while lca.score >= 0:\n",
    "    next(lca)"
   ]
  },
  {
   "cell_type": "code",
   "execution_count": 7,
   "id": "931c2a23-03fa-4391-a38c-5513443a8eb6",
   "metadata": {},
   "outputs": [
    {
     "data": {
      "text/html": [
       "<div>\n",
       "<style scoped>\n",
       "    .dataframe tbody tr th:only-of-type {\n",
       "        vertical-align: middle;\n",
       "    }\n",
       "\n",
       "    .dataframe tbody tr th {\n",
       "        vertical-align: top;\n",
       "    }\n",
       "\n",
       "    .dataframe thead th {\n",
       "        text-align: right;\n",
       "    }\n",
       "</style>\n",
       "<table border=\"1\" class=\"dataframe\">\n",
       "  <thead>\n",
       "    <tr style=\"text-align: right;\">\n",
       "      <th></th>\n",
       "      <th>row_index</th>\n",
       "      <th>col_index</th>\n",
       "      <th>amount</th>\n",
       "      <th>row_id</th>\n",
       "      <th>col_id</th>\n",
       "      <th>row_database</th>\n",
       "      <th>row_code</th>\n",
       "      <th>row_name</th>\n",
       "      <th>row_location</th>\n",
       "      <th>row_unit</th>\n",
       "      <th>row_type</th>\n",
       "      <th>row_categories</th>\n",
       "      <th>row_product</th>\n",
       "      <th>col_database</th>\n",
       "      <th>col_code</th>\n",
       "      <th>col_name</th>\n",
       "      <th>col_location</th>\n",
       "      <th>col_unit</th>\n",
       "      <th>col_type</th>\n",
       "      <th>col_reference_product</th>\n",
       "    </tr>\n",
       "  </thead>\n",
       "  <tbody>\n",
       "    <tr>\n",
       "      <th>0</th>\n",
       "      <td>1016</td>\n",
       "      <td>12309</td>\n",
       "      <td>-0.002499</td>\n",
       "      <td>2175</td>\n",
       "      <td>17019</td>\n",
       "      <td>biosphere3</td>\n",
       "      <td>e429b852-e421-4fcb-8a9b-b0241863bfb2</td>\n",
       "      <td>Cadmium II</td>\n",
       "      <td>None</td>\n",
       "      <td>kilogram</td>\n",
       "      <td>emission</td>\n",
       "      <td>soil::agricultural</td>\n",
       "      <td>None</td>\n",
       "      <td>ecoinvent-3.9-cutoff</td>\n",
       "      <td>4712961cceee83b212c1ab360d922180</td>\n",
       "      <td>sugarcane production</td>\n",
       "      <td>BR-SP</td>\n",
       "      <td>kilogram</td>\n",
       "      <td>process</td>\n",
       "      <td>sugarcane</td>\n",
       "    </tr>\n",
       "    <tr>\n",
       "      <th>1</th>\n",
       "      <td>1027</td>\n",
       "      <td>12309</td>\n",
       "      <td>-0.001250</td>\n",
       "      <td>2189</td>\n",
       "      <td>17019</td>\n",
       "      <td>biosphere3</td>\n",
       "      <td>e7881581-21b3-4f5c-bd63-6b0684b5e712</td>\n",
       "      <td>Chromium III</td>\n",
       "      <td>None</td>\n",
       "      <td>kilogram</td>\n",
       "      <td>emission</td>\n",
       "      <td>soil::agricultural</td>\n",
       "      <td>None</td>\n",
       "      <td>ecoinvent-3.9-cutoff</td>\n",
       "      <td>4712961cceee83b212c1ab360d922180</td>\n",
       "      <td>sugarcane production</td>\n",
       "      <td>BR-SP</td>\n",
       "      <td>kilogram</td>\n",
       "      <td>process</td>\n",
       "      <td>sugarcane</td>\n",
       "    </tr>\n",
       "    <tr>\n",
       "      <th>2</th>\n",
       "      <td>2080</td>\n",
       "      <td>12309</td>\n",
       "      <td>0.000740</td>\n",
       "      <td>4290</td>\n",
       "      <td>17019</td>\n",
       "      <td>biosphere3</td>\n",
       "      <td>4673a799-36a5-4359-ac6a-fa933281bc93</td>\n",
       "      <td>Arsenic ion</td>\n",
       "      <td>None</td>\n",
       "      <td>kilogram</td>\n",
       "      <td>emission</td>\n",
       "      <td>soil::agricultural</td>\n",
       "      <td>None</td>\n",
       "      <td>ecoinvent-3.9-cutoff</td>\n",
       "      <td>4712961cceee83b212c1ab360d922180</td>\n",
       "      <td>sugarcane production</td>\n",
       "      <td>BR-SP</td>\n",
       "      <td>kilogram</td>\n",
       "      <td>process</td>\n",
       "      <td>sugarcane</td>\n",
       "    </tr>\n",
       "    <tr>\n",
       "      <th>3</th>\n",
       "      <td>1048</td>\n",
       "      <td>12309</td>\n",
       "      <td>-0.000348</td>\n",
       "      <td>2220</td>\n",
       "      <td>17019</td>\n",
       "      <td>biosphere3</td>\n",
       "      <td>4010918f-7fd0-4925-8fbb-8fd7a44a806c</td>\n",
       "      <td>Lead II</td>\n",
       "      <td>None</td>\n",
       "      <td>kilogram</td>\n",
       "      <td>emission</td>\n",
       "      <td>soil::agricultural</td>\n",
       "      <td>None</td>\n",
       "      <td>ecoinvent-3.9-cutoff</td>\n",
       "      <td>4712961cceee83b212c1ab360d922180</td>\n",
       "      <td>sugarcane production</td>\n",
       "      <td>BR-SP</td>\n",
       "      <td>kilogram</td>\n",
       "      <td>process</td>\n",
       "      <td>sugarcane</td>\n",
       "    </tr>\n",
       "    <tr>\n",
       "      <th>4</th>\n",
       "      <td>1016</td>\n",
       "      <td>18691</td>\n",
       "      <td>-0.000770</td>\n",
       "      <td>2175</td>\n",
       "      <td>23401</td>\n",
       "      <td>biosphere3</td>\n",
       "      <td>e429b852-e421-4fcb-8a9b-b0241863bfb2</td>\n",
       "      <td>Cadmium II</td>\n",
       "      <td>None</td>\n",
       "      <td>kilogram</td>\n",
       "      <td>emission</td>\n",
       "      <td>soil::agricultural</td>\n",
       "      <td>None</td>\n",
       "      <td>ecoinvent-3.9-cutoff</td>\n",
       "      <td>c4c8962a99c8166a61c4b4712c339b0f</td>\n",
       "      <td>sugarcane production</td>\n",
       "      <td>BR-MG</td>\n",
       "      <td>kilogram</td>\n",
       "      <td>process</td>\n",
       "      <td>sugarcane</td>\n",
       "    </tr>\n",
       "    <tr>\n",
       "      <th>5</th>\n",
       "      <td>1027</td>\n",
       "      <td>18691</td>\n",
       "      <td>-0.000297</td>\n",
       "      <td>2189</td>\n",
       "      <td>23401</td>\n",
       "      <td>biosphere3</td>\n",
       "      <td>e7881581-21b3-4f5c-bd63-6b0684b5e712</td>\n",
       "      <td>Chromium III</td>\n",
       "      <td>None</td>\n",
       "      <td>kilogram</td>\n",
       "      <td>emission</td>\n",
       "      <td>soil::agricultural</td>\n",
       "      <td>None</td>\n",
       "      <td>ecoinvent-3.9-cutoff</td>\n",
       "      <td>c4c8962a99c8166a61c4b4712c339b0f</td>\n",
       "      <td>sugarcane production</td>\n",
       "      <td>BR-MG</td>\n",
       "      <td>kilogram</td>\n",
       "      <td>process</td>\n",
       "      <td>sugarcane</td>\n",
       "    </tr>\n",
       "    <tr>\n",
       "      <th>6</th>\n",
       "      <td>1016</td>\n",
       "      <td>2114</td>\n",
       "      <td>-0.000329</td>\n",
       "      <td>2175</td>\n",
       "      <td>6824</td>\n",
       "      <td>biosphere3</td>\n",
       "      <td>e429b852-e421-4fcb-8a9b-b0241863bfb2</td>\n",
       "      <td>Cadmium II</td>\n",
       "      <td>None</td>\n",
       "      <td>kilogram</td>\n",
       "      <td>emission</td>\n",
       "      <td>soil::agricultural</td>\n",
       "      <td>None</td>\n",
       "      <td>ecoinvent-3.9-cutoff</td>\n",
       "      <td>97518d3954f9a7dc83f505d5deb1e345</td>\n",
       "      <td>sugarcane production</td>\n",
       "      <td>BR-PR</td>\n",
       "      <td>kilogram</td>\n",
       "      <td>process</td>\n",
       "      <td>sugarcane</td>\n",
       "    </tr>\n",
       "    <tr>\n",
       "      <th>7</th>\n",
       "      <td>1016</td>\n",
       "      <td>19093</td>\n",
       "      <td>0.000228</td>\n",
       "      <td>2175</td>\n",
       "      <td>23803</td>\n",
       "      <td>biosphere3</td>\n",
       "      <td>e429b852-e421-4fcb-8a9b-b0241863bfb2</td>\n",
       "      <td>Cadmium II</td>\n",
       "      <td>None</td>\n",
       "      <td>kilogram</td>\n",
       "      <td>emission</td>\n",
       "      <td>soil::agricultural</td>\n",
       "      <td>None</td>\n",
       "      <td>ecoinvent-3.9-cutoff</td>\n",
       "      <td>29db7abce67e87309bfc6671574a4ef1</td>\n",
       "      <td>sugarcane production</td>\n",
       "      <td>BR-MS</td>\n",
       "      <td>kilogram</td>\n",
       "      <td>process</td>\n",
       "      <td>sugarcane</td>\n",
       "    </tr>\n",
       "    <tr>\n",
       "      <th>8</th>\n",
       "      <td>1027</td>\n",
       "      <td>6965</td>\n",
       "      <td>0.000239</td>\n",
       "      <td>2189</td>\n",
       "      <td>11675</td>\n",
       "      <td>biosphere3</td>\n",
       "      <td>e7881581-21b3-4f5c-bd63-6b0684b5e712</td>\n",
       "      <td>Chromium III</td>\n",
       "      <td>None</td>\n",
       "      <td>kilogram</td>\n",
       "      <td>emission</td>\n",
       "      <td>soil::agricultural</td>\n",
       "      <td>None</td>\n",
       "      <td>ecoinvent-3.9-cutoff</td>\n",
       "      <td>ed52ccba49a478e3533fa4ac8f5a8710</td>\n",
       "      <td>sugarcane production</td>\n",
       "      <td>BR-GO</td>\n",
       "      <td>kilogram</td>\n",
       "      <td>process</td>\n",
       "      <td>sugarcane</td>\n",
       "    </tr>\n",
       "    <tr>\n",
       "      <th>9</th>\n",
       "      <td>2080</td>\n",
       "      <td>6965</td>\n",
       "      <td>-0.000203</td>\n",
       "      <td>4290</td>\n",
       "      <td>11675</td>\n",
       "      <td>biosphere3</td>\n",
       "      <td>4673a799-36a5-4359-ac6a-fa933281bc93</td>\n",
       "      <td>Arsenic ion</td>\n",
       "      <td>None</td>\n",
       "      <td>kilogram</td>\n",
       "      <td>emission</td>\n",
       "      <td>soil::agricultural</td>\n",
       "      <td>None</td>\n",
       "      <td>ecoinvent-3.9-cutoff</td>\n",
       "      <td>ed52ccba49a478e3533fa4ac8f5a8710</td>\n",
       "      <td>sugarcane production</td>\n",
       "      <td>BR-GO</td>\n",
       "      <td>kilogram</td>\n",
       "      <td>process</td>\n",
       "      <td>sugarcane</td>\n",
       "    </tr>\n",
       "  </tbody>\n",
       "</table>\n",
       "</div>"
      ],
      "text/plain": [
       "   row_index  col_index    amount  row_id  col_id row_database  \\\n",
       "0       1016      12309 -0.002499    2175   17019   biosphere3   \n",
       "1       1027      12309 -0.001250    2189   17019   biosphere3   \n",
       "2       2080      12309  0.000740    4290   17019   biosphere3   \n",
       "3       1048      12309 -0.000348    2220   17019   biosphere3   \n",
       "4       1016      18691 -0.000770    2175   23401   biosphere3   \n",
       "5       1027      18691 -0.000297    2189   23401   biosphere3   \n",
       "6       1016       2114 -0.000329    2175    6824   biosphere3   \n",
       "7       1016      19093  0.000228    2175   23803   biosphere3   \n",
       "8       1027       6965  0.000239    2189   11675   biosphere3   \n",
       "9       2080       6965 -0.000203    4290   11675   biosphere3   \n",
       "\n",
       "                               row_code      row_name row_location  row_unit  \\\n",
       "0  e429b852-e421-4fcb-8a9b-b0241863bfb2    Cadmium II         None  kilogram   \n",
       "1  e7881581-21b3-4f5c-bd63-6b0684b5e712  Chromium III         None  kilogram   \n",
       "2  4673a799-36a5-4359-ac6a-fa933281bc93   Arsenic ion         None  kilogram   \n",
       "3  4010918f-7fd0-4925-8fbb-8fd7a44a806c       Lead II         None  kilogram   \n",
       "4  e429b852-e421-4fcb-8a9b-b0241863bfb2    Cadmium II         None  kilogram   \n",
       "5  e7881581-21b3-4f5c-bd63-6b0684b5e712  Chromium III         None  kilogram   \n",
       "6  e429b852-e421-4fcb-8a9b-b0241863bfb2    Cadmium II         None  kilogram   \n",
       "7  e429b852-e421-4fcb-8a9b-b0241863bfb2    Cadmium II         None  kilogram   \n",
       "8  e7881581-21b3-4f5c-bd63-6b0684b5e712  Chromium III         None  kilogram   \n",
       "9  4673a799-36a5-4359-ac6a-fa933281bc93   Arsenic ion         None  kilogram   \n",
       "\n",
       "   row_type      row_categories row_product          col_database  \\\n",
       "0  emission  soil::agricultural        None  ecoinvent-3.9-cutoff   \n",
       "1  emission  soil::agricultural        None  ecoinvent-3.9-cutoff   \n",
       "2  emission  soil::agricultural        None  ecoinvent-3.9-cutoff   \n",
       "3  emission  soil::agricultural        None  ecoinvent-3.9-cutoff   \n",
       "4  emission  soil::agricultural        None  ecoinvent-3.9-cutoff   \n",
       "5  emission  soil::agricultural        None  ecoinvent-3.9-cutoff   \n",
       "6  emission  soil::agricultural        None  ecoinvent-3.9-cutoff   \n",
       "7  emission  soil::agricultural        None  ecoinvent-3.9-cutoff   \n",
       "8  emission  soil::agricultural        None  ecoinvent-3.9-cutoff   \n",
       "9  emission  soil::agricultural        None  ecoinvent-3.9-cutoff   \n",
       "\n",
       "                           col_code              col_name col_location  \\\n",
       "0  4712961cceee83b212c1ab360d922180  sugarcane production        BR-SP   \n",
       "1  4712961cceee83b212c1ab360d922180  sugarcane production        BR-SP   \n",
       "2  4712961cceee83b212c1ab360d922180  sugarcane production        BR-SP   \n",
       "3  4712961cceee83b212c1ab360d922180  sugarcane production        BR-SP   \n",
       "4  c4c8962a99c8166a61c4b4712c339b0f  sugarcane production        BR-MG   \n",
       "5  c4c8962a99c8166a61c4b4712c339b0f  sugarcane production        BR-MG   \n",
       "6  97518d3954f9a7dc83f505d5deb1e345  sugarcane production        BR-PR   \n",
       "7  29db7abce67e87309bfc6671574a4ef1  sugarcane production        BR-MS   \n",
       "8  ed52ccba49a478e3533fa4ac8f5a8710  sugarcane production        BR-GO   \n",
       "9  ed52ccba49a478e3533fa4ac8f5a8710  sugarcane production        BR-GO   \n",
       "\n",
       "   col_unit col_type col_reference_product  \n",
       "0  kilogram  process             sugarcane  \n",
       "1  kilogram  process             sugarcane  \n",
       "2  kilogram  process             sugarcane  \n",
       "3  kilogram  process             sugarcane  \n",
       "4  kilogram  process             sugarcane  \n",
       "5  kilogram  process             sugarcane  \n",
       "6  kilogram  process             sugarcane  \n",
       "7  kilogram  process             sugarcane  \n",
       "8  kilogram  process             sugarcane  \n",
       "9  kilogram  process             sugarcane  "
      ]
     },
     "execution_count": 7,
     "metadata": {},
     "output_type": "execute_result"
    }
   ],
   "source": [
    "lca.to_dataframe(matrix_label=\"characterized_inventory\", cutoff=10)"
   ]
  },
  {
   "cell_type": "markdown",
   "id": "67c208ae-eb88-470c-8061-58fb128d7373",
   "metadata": {},
   "source": [
    "Look up exchange value for first row in inventory matrix"
   ]
  },
  {
   "cell_type": "code",
   "execution_count": 8,
   "id": "49757707-6d86-4961-9cd1-9fb061297491",
   "metadata": {},
   "outputs": [],
   "source": [
    "row = 1016\n",
    "col = 12309"
   ]
  },
  {
   "cell_type": "code",
   "execution_count": 9,
   "id": "737d705c-a72b-4c98-be00-66ef2bc81a0b",
   "metadata": {},
   "outputs": [
    {
     "data": {
      "text/plain": [
       "-27.762874920670892"
      ]
     },
     "execution_count": 9,
     "metadata": {},
     "output_type": "execute_result"
    }
   ],
   "source": [
    "lca.inventory[row, col]"
   ]
  },
  {
   "cell_type": "markdown",
   "id": "6ab2246e-2af6-4262-a7c0-03767dfe6f4d",
   "metadata": {},
   "source": [
    "Negative value from biosphere or technosphere?"
   ]
  },
  {
   "cell_type": "code",
   "execution_count": 10,
   "id": "d208bf17-4e4f-46bf-a174-f7ca5cfa165b",
   "metadata": {},
   "outputs": [
    {
     "data": {
      "text/plain": [
       "-1.413550491016362"
      ]
     },
     "execution_count": 10,
     "metadata": {},
     "output_type": "execute_result"
    }
   ],
   "source": [
    "lca.biosphere_matrix[row, col]"
   ]
  },
  {
   "cell_type": "markdown",
   "id": "7565a610-497c-4f00-b9eb-2576550c3ddb",
   "metadata": {},
   "source": [
    "Get information on the uncertainty distribution of this point."
   ]
  },
  {
   "cell_type": "code",
   "execution_count": 11,
   "id": "b061b843-d33b-441c-8a99-eddb97d68463",
   "metadata": {},
   "outputs": [],
   "source": [
    "mask = (\n",
    "    (lca.biosphere_mm.input_row_col_indices()['row'] == row) *\n",
    "    (lca.biosphere_mm.input_row_col_indices()['col'] == col)\n",
    ")"
   ]
  },
  {
   "cell_type": "markdown",
   "id": "762a5d14-c06d-4b13-90b8-af0b2c9045cb",
   "metadata": {},
   "source": [
    "This is [normally distributed](https://stats-arrays.readthedocs.io/en/latest/#mapping-parameter-array-columns-to-uncertainty-distributions), so can be positive or negative. Look how big $\\sigma$ is versus $\\mu$."
   ]
  },
  {
   "cell_type": "code",
   "execution_count": 12,
   "id": "6ed74a92-75c2-4c40-bb7d-7c28e87dc3c3",
   "metadata": {},
   "outputs": [
    {
     "data": {
      "text/plain": [
       "array([(3, -2.2214245e-08, 1.1916375, nan, nan, nan, False)],\n",
       "      dtype=[('uncertainty_type', 'u1'), ('loc', '<f4'), ('scale', '<f4'), ('shape', '<f4'), ('minimum', '<f4'), ('maximum', '<f4'), ('negative', '?')])"
      ]
     },
     "execution_count": 12,
     "metadata": {},
     "output_type": "execute_result"
    }
   ],
   "source": [
    "lca.biosphere_mm.input_uncertainties()[mask]"
   ]
  },
  {
   "cell_type": "markdown",
   "id": "03f4733b-d1cf-415e-b67f-b057b9b27f2c",
   "metadata": {},
   "source": [
    "How does sugarcane get into our wafer production?"
   ]
  },
  {
   "cell_type": "code",
   "execution_count": 13,
   "id": "1abc5585-19a8-4dab-ad59-67efc8bb48c1",
   "metadata": {},
   "outputs": [
    {
     "name": "stderr",
     "output_type": "stream",
     "text": [
      "/Users/chrismutel/miniconda3/envs/bw25/lib/python3.10/site-packages/scikits/umfpack/umfpack.py:736: UmfpackWarning: (almost) singular matrix! (estimated cond. number: 3.73e+13)\n",
      "  warnings.warn(msg, UmfpackWarning)\n"
     ]
    },
    {
     "name": "stdout",
     "output_type": "stream",
     "text": [
      "Fraction of score | Absolute score | Amount | Activity\n",
      "0001 | -0.004895 |     1 | 'market for wafer, fabricated, for integrated circuit' (square meter, \n",
      "  0001 | -0.004895 |     1 | 'wafer production, fabricated, for integrated circuit' (square meter, \n",
      "    0.889 | -0.004351 | 2.76e+04 | 'market group for electricity, medium voltage' (kilowatt hour, GLO, No\n",
      "      0.881 | -0.004313 |  1627 | 'market group for electricity, medium voltage' (kilowatt hour, RLA, No\n",
      "        0.881 | -0.004311 | 699.6 | 'market group for electricity, medium voltage' (kilowatt hour, BR, Non\n",
      "          0.214 | -0.001048 |   181 | 'market for electricity, medium voltage' (kilowatt hour, BR-Southern g\n",
      "            0.214 | -0.001048 | 182.4 | 'electricity voltage transformation from high to medium voltage' (kilo\n",
      "              0.214 | -0.001048 | 184.7 | 'market for electricity, high voltage' (kilowatt hour, BR-Southern gri\n",
      "          0.605 | -0.00296 | 311.9 | 'market for electricity, medium voltage' (kilowatt hour, BR-South-east\n",
      "            0.605 | -0.00296 | 315.2 | 'electricity voltage transformation from high to medium voltage' (kilo\n",
      "              0.605 | -0.00296 | 320.5 | 'market for electricity, high voltage' (kilowatt hour, BR-South-easter\n",
      "                0.146 | -0.0007137 | 2.374 | 'sugarcane processing, modern annexed plant' (kilowatt hour, BR, None)\n",
      "                0.395 | -0.001934 | 32.05 | 'treatment of bagasse, from sugarcane, in heat and power co-generation\n"
     ]
    }
   ],
   "source": [
    "ba.print_recursive_calculation(\n",
    "    activity=act,\n",
    "    lcia_method=ht,\n",
    "    max_level=8,\n",
    "    cutoff=0.1,\n",
    "    use_matrix_values=True,\n",
    "    _lca_obj=lca,\n",
    "    _total_score=float(lca.score)\n",
    ")"
   ]
  },
  {
   "cell_type": "code",
   "execution_count": null,
   "id": "f51c1ed3-3a06-4bb9-9f80-9a24f64a7de3",
   "metadata": {},
   "outputs": [],
   "source": []
  }
 ],
 "metadata": {
  "kernelspec": {
   "display_name": "Python 3 (ipykernel)",
   "language": "python",
   "name": "python3"
  },
  "language_info": {
   "codemirror_mode": {
    "name": "ipython",
    "version": 3
   },
   "file_extension": ".py",
   "mimetype": "text/x-python",
   "name": "python",
   "nbconvert_exporter": "python",
   "pygments_lexer": "ipython3",
   "version": "3.10.6"
  }
 },
 "nbformat": 4,
 "nbformat_minor": 5
}
