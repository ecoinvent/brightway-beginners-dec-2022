{
 "cells": [
  {
   "cell_type": "code",
   "execution_count": null,
   "id": "8ae0f401-b62b-4d66-94da-b4f219f9b0e7",
   "metadata": {},
   "outputs": [],
   "source": [
    "import bw2data as bd\n",
    "import bw2calc as bc\n",
    "import bw2analyzer as ba\n",
    "import bw2io as bi"
   ]
  },
  {
   "cell_type": "code",
   "execution_count": null,
   "id": "01dbced3-9130-46bc-b2ef-f66b8fba121b",
   "metadata": {},
   "outputs": [],
   "source": [
    "if \"ecoinvent-3.9-cutoff\" not in bd.projects:\n",
    "    bi.restore_project_directory(\"/srv/data/projects/ecoinvent-3.9-cutoff.tar.gz\")"
   ]
  },
  {
   "cell_type": "code",
   "execution_count": null,
   "id": "71fa8a88-d1eb-46a0-8bb5-aae558375acc",
   "metadata": {},
   "outputs": [],
   "source": [
    "bd.projects.set_current(\"ecoinvent-3.9-cutoff\")"
   ]
  },
  {
   "cell_type": "code",
   "execution_count": null,
   "id": "508e08c2-7bba-4114-a8a7-c050e837620f",
   "metadata": {},
   "outputs": [],
   "source": [
    "ht = (\n",
    "    'EF v3.1 no LT',\n",
    "    'human toxicity: carcinogenic no LT',\n",
    "    'comparative toxic unit for human (CTUh) no LT'\n",
    ")"
   ]
  },
  {
   "cell_type": "code",
   "execution_count": null,
   "id": "3567be68-d89b-422e-bb93-02a38f8e14fb",
   "metadata": {},
   "outputs": [],
   "source": [
    "act = bd.get_activity(database=\"ecoinvent-3.9-cutoff\", name=\"market for wafer, fabricated, for integrated circuit\")"
   ]
  },
  {
   "cell_type": "code",
   "execution_count": null,
   "id": "3e9032f2-a2b6-4542-968a-325e79a4e77a",
   "metadata": {},
   "outputs": [],
   "source": [
    "lca = bc.LCA({act: 1}, ht, use_distributions=True)\n",
    "lca.lci()\n",
    "lca.lcia()"
   ]
  },
  {
   "cell_type": "code",
   "execution_count": null,
   "id": "613f39be-8b24-4a31-b681-8ee03600dcc3",
   "metadata": {},
   "outputs": [],
   "source": [
    "while lca.score >= 0:\n",
    "    next(lca)"
   ]
  },
  {
   "cell_type": "code",
   "execution_count": null,
   "id": "931c2a23-03fa-4391-a38c-5513443a8eb6",
   "metadata": {},
   "outputs": [],
   "source": [
    "lca.to_dataframe(matrix_label=\"characterized_inventory\", cutoff=10)"
   ]
  },
  {
   "cell_type": "markdown",
   "id": "67c208ae-eb88-470c-8061-58fb128d7373",
   "metadata": {},
   "source": [
    "Look up exchange value for first row in inventory matrix"
   ]
  },
  {
   "cell_type": "code",
   "execution_count": null,
   "id": "49757707-6d86-4961-9cd1-9fb061297491",
   "metadata": {},
   "outputs": [],
   "source": [
    "row = 1027\n",
    "col = 12309"
   ]
  },
  {
   "cell_type": "code",
   "execution_count": null,
   "id": "737d705c-a72b-4c98-be00-66ef2bc81a0b",
   "metadata": {},
   "outputs": [],
   "source": [
    "lca.inventory[row, col]"
   ]
  },
  {
   "cell_type": "markdown",
   "id": "6ab2246e-2af6-4262-a7c0-03767dfe6f4d",
   "metadata": {},
   "source": [
    "Negative value from biosphere or technosphere?"
   ]
  },
  {
   "cell_type": "code",
   "execution_count": null,
   "id": "d208bf17-4e4f-46bf-a174-f7ca5cfa165b",
   "metadata": {},
   "outputs": [],
   "source": [
    "lca.biosphere_matrix[row, col]"
   ]
  },
  {
   "cell_type": "markdown",
   "id": "7565a610-497c-4f00-b9eb-2576550c3ddb",
   "metadata": {},
   "source": [
    "Get information on the uncertainty distribution of this point."
   ]
  },
  {
   "cell_type": "code",
   "execution_count": null,
   "id": "b061b843-d33b-441c-8a99-eddb97d68463",
   "metadata": {},
   "outputs": [],
   "source": [
    "mask = (\n",
    "    (lca.biosphere_mm.input_row_col_indices()['row'] == row) *\n",
    "    (lca.biosphere_mm.input_row_col_indices()['col'] == col)\n",
    ")"
   ]
  },
  {
   "cell_type": "markdown",
   "id": "762a5d14-c06d-4b13-90b8-af0b2c9045cb",
   "metadata": {},
   "source": [
    "This is [normally distributed](https://stats-arrays.readthedocs.io/en/latest/#mapping-parameter-array-columns-to-uncertainty-distributions), so can be positive or negative. Look how big $\\sigma$ is versus $\\mu$."
   ]
  },
  {
   "cell_type": "code",
   "execution_count": null,
   "id": "6ed74a92-75c2-4c40-bb7d-7c28e87dc3c3",
   "metadata": {},
   "outputs": [],
   "source": [
    "lca.biosphere_mm.input_uncertainties()[mask]"
   ]
  },
  {
   "cell_type": "markdown",
   "id": "03f4733b-d1cf-415e-b67f-b057b9b27f2c",
   "metadata": {},
   "source": [
    "How does sugarcane get into our wafer production?"
   ]
  },
  {
   "cell_type": "code",
   "execution_count": null,
   "id": "1abc5585-19a8-4dab-ad59-67efc8bb48c1",
   "metadata": {},
   "outputs": [],
   "source": [
    "ba.print_recursive_calculation(\n",
    "    activity=act,\n",
    "    lcia_method=ht,\n",
    "    max_level=8,\n",
    "    cutoff=0.1,\n",
    "    use_matrix_values=True,\n",
    "    _lca_obj=lca,\n",
    "    _total_score=float(lca.score)\n",
    ")"
   ]
  }
 ],
 "metadata": {
  "kernelspec": {
   "display_name": "Python [conda env:bw25]",
   "language": "python",
   "name": "conda-env-bw25-py"
  },
  "language_info": {
   "codemirror_mode": {
    "name": "ipython",
    "version": 3
   },
   "file_extension": ".py",
   "mimetype": "text/x-python",
   "name": "python",
   "nbconvert_exporter": "python",
   "pygments_lexer": "ipython3",
   "version": "3.10.6"
  }
 },
 "nbformat": 4,
 "nbformat_minor": 5
}
